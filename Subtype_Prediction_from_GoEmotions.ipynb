{
  "nbformat": 4,
  "nbformat_minor": 0,
  "metadata": {
    "colab": {
      "provenance": [],
      "authorship_tag": "ABX9TyOyvvqfxikgkQfmbg6VTHPd",
      "include_colab_link": true
    },
    "kernelspec": {
      "name": "python3",
      "display_name": "Python 3"
    },
    "language_info": {
      "name": "python"
    }
  },
  "cells": [
    {
      "cell_type": "markdown",
      "metadata": {
        "id": "view-in-github",
        "colab_type": "text"
      },
      "source": [
        "<a href=\"https://colab.research.google.com/github/lov435/SOEmotions/blob/main/Subtype_Prediction_from_GoEmotions.ipynb\" target=\"_parent\"><img src=\"https://colab.research.google.com/assets/colab-badge.svg\" alt=\"Open In Colab\"/></a>"
      ]
    },
    {
      "cell_type": "markdown",
      "source": [
        "#### Import the required libraries"
      ],
      "metadata": {
        "id": "7eA4goTaUFa6"
      }
    },
    {
      "cell_type": "code",
      "source": [
        "from sklearn.model_selection import train_test_split\n",
        "from sklearn.preprocessing import StandardScaler\n",
        "from sklearn.ensemble import RandomForestClassifier\n",
        "import pandas as pd\n",
        "import numpy as np\n",
        "from sklearn.metrics import accuracy_score\n",
        "from sklearn.metrics import f1_score"
      ],
      "metadata": {
        "id": "-y1_Om4kOFyn"
      },
      "execution_count": null,
      "outputs": []
    },
    {
      "cell_type": "markdown",
      "source": [
        "#### Get the dataset csv from google drive"
      ],
      "metadata": {
        "id": "UxEPdRR0ULZ9"
      }
    },
    {
      "cell_type": "code",
      "metadata": {
        "id": "eyyPr-XtkmZI"
      },
      "source": [
        "url='https://drive.google.com/file/d/1OW1PZ-MvXFGd4KbqE8zjSakPNVKXXVLy/view?usp=sharing'\n",
        "file_id=url.split('/')[-2]\n",
        "dwn_url='https://drive.google.com/uc?id=' + file_id\n",
        "df = pd.read_csv(dwn_url)"
      ],
      "execution_count": null,
      "outputs": []
    },
    {
      "cell_type": "markdown",
      "source": [
        "#### Extract the features and classes from the dataframe"
      ],
      "metadata": {
        "id": "3dnR2YAuUX1H"
      }
    },
    {
      "cell_type": "code",
      "source": [
        "X_cols = ['admiration', 'amusement', 'anger', 'annoyance', 'approval', 'caring', 'confusion', 'curiosity', 'desire', 'disappointment', 'disapproval', 'disgust', 'embarrassment', 'excitement', 'fear', 'gratitude', 'grief', 'joy', 'love', 'nervousness', 'optimism', 'pride', 'realization', 'relief', 'remorse', 'sadness', 'surprise', 'neutral'] \n",
        "X = df[X_cols]\n",
        "y = df['Label']"
      ],
      "metadata": {
        "id": "C4klEA23KezA"
      },
      "execution_count": null,
      "outputs": []
    },
    {
      "cell_type": "markdown",
      "source": [
        "#### Use pandas factorize function to factorize the Group column in the dataset. This will create both factors and the definitions for the factors."
      ],
      "metadata": {
        "id": "9Bj7t5m2SfwA"
      }
    },
    {
      "cell_type": "code",
      "source": [
        "factor = pd.factorize(y)\n",
        "y = factor[0]\n",
        "definitions = factor[1]\n",
        "print(y)\n",
        "print(definitions)"
      ],
      "metadata": {
        "colab": {
          "base_uri": "https://localhost:8080/"
        },
        "id": "NbOa_1wsRfg8",
        "outputId": "aefd0990-5e9f-4d6b-dc34-2cae395337b3"
      },
      "execution_count": null,
      "outputs": [
        {
          "output_type": "stream",
          "name": "stdout",
          "text": [
            "[0 1 2 ... 3 1 7]\n",
            "Index(['Solution', 'Clarification', 'Correction', 'Question', 'Performance',\n",
            "       'Support', 'Request', 'Irrelevant', 'Praise', 'Reference', 'Disagree',\n",
            "       'Flaw', 'Example', 'Highlight', 'Error', 'Extension', 'Obsolete'],\n",
            "      dtype='object')\n"
          ]
        }
      ]
    },
    {
      "cell_type": "markdown",
      "source": [
        "#### Creating the Training and Test set from data"
      ],
      "metadata": {
        "id": "yJrUWA6dSUpQ"
      }
    },
    {
      "cell_type": "code",
      "source": [
        "X_train, X_test, y_train, y_test = train_test_split(X, y, test_size = 0.25, random_state = 21)"
      ],
      "metadata": {
        "id": "rsF8JXQFSZNy"
      },
      "execution_count": null,
      "outputs": []
    },
    {
      "cell_type": "markdown",
      "source": [
        "#### Feature Scaling. We will use a standard scaler provided in the sklearn library. It subtracts the mean value of the observation and then divides it by the unit variance of the observation."
      ],
      "metadata": {
        "id": "E9yX2Rc-S4Gd"
      }
    },
    {
      "cell_type": "code",
      "source": [
        "scaler = StandardScaler()\n",
        "X_train = scaler.fit_transform(X_train)\n",
        "X_test = scaler.transform(X_test)"
      ],
      "metadata": {
        "id": "Ya6y9fGrODzP"
      },
      "execution_count": null,
      "outputs": []
    },
    {
      "cell_type": "markdown",
      "source": [
        "#### Fitting Random Forest Classification to the Training set\n"
      ],
      "metadata": {
        "id": "amqD0H7yTHFj"
      }
    },
    {
      "cell_type": "code",
      "source": [
        "classifier = RandomForestClassifier(n_estimators = 10, criterion = 'entropy', random_state = 42)\n",
        "classifier.fit(X_train, y_train)"
      ],
      "metadata": {
        "colab": {
          "base_uri": "https://localhost:8080/"
        },
        "id": "gntekXixPrj6",
        "outputId": "5db05424-aaeb-4fe0-dd76-7a44dfad0679"
      },
      "execution_count": null,
      "outputs": [
        {
          "output_type": "execute_result",
          "data": {
            "text/plain": [
              "RandomForestClassifier(criterion='entropy', n_estimators=10, random_state=42)"
            ]
          },
          "metadata": {},
          "execution_count": 7
        }
      ]
    },
    {
      "cell_type": "markdown",
      "source": [
        "#### Predicting the Test set results"
      ],
      "metadata": {
        "id": "qOz86EORTZm9"
      }
    },
    {
      "cell_type": "code",
      "source": [
        "y_pred = classifier.predict(X_test)"
      ],
      "metadata": {
        "id": "fPP55ljJPtzG"
      },
      "execution_count": null,
      "outputs": []
    },
    {
      "cell_type": "markdown",
      "source": [
        "#### Reverse factorize the 'Group' column from numbers to text."
      ],
      "metadata": {
        "id": "10y37BvkTgDy"
      }
    },
    {
      "cell_type": "code",
      "source": [
        "reversefactor = dict(zip(range(definitions.size),definitions))\n",
        "y_test = np.vectorize(reversefactor.get)(y_test)\n",
        "y_pred = np.vectorize(reversefactor.get)(y_pred)"
      ],
      "metadata": {
        "id": "XtPSjoiXTmG6"
      },
      "execution_count": null,
      "outputs": []
    },
    {
      "cell_type": "markdown",
      "source": [
        "#### Create a confusion matrix"
      ],
      "metadata": {
        "id": "7fK0hIgeTrZQ"
      }
    },
    {
      "cell_type": "code",
      "source": [
        "print(pd.crosstab(y_test, y_pred, rownames=['Actual'], colnames=['Predicted']))\n"
      ],
      "metadata": {
        "colab": {
          "base_uri": "https://localhost:8080/"
        },
        "id": "Z4a4y8kzT0vg",
        "outputId": "4654f0e7-3054-487f-b70d-a1afa176ce35"
      },
      "execution_count": null,
      "outputs": [
        {
          "output_type": "stream",
          "name": "stdout",
          "text": [
            "Predicted      Clarification  Correction  Disagree  Error  Example  Flaw  \\\n",
            "Actual                                                                     \n",
            "Clarification             87           6         2      3        1     7   \n",
            "Correction                20           0         0      0        1     6   \n",
            "Disagree                   9           1         6      2        0     3   \n",
            "Error                     19           2         1      1        0     3   \n",
            "Example                    9           0         0      1        0     1   \n",
            "Extension                  3           0         0      0        0     0   \n",
            "Flaw                      24           0         1      1        0     5   \n",
            "Highlight                  3           0         0      0        0     0   \n",
            "Irrelevant                35           3         2      1        0     2   \n",
            "Obsolete                   5           0         0      0        0     1   \n",
            "Performance                3           0         0      0        0     1   \n",
            "Praise                    17           1         0      2        0     1   \n",
            "Question                   8           1         0      1        0     0   \n",
            "Reference                 11           0         0      0        0     0   \n",
            "Request                    8           0         0      1        0     0   \n",
            "Solution                  34           0         0      1        0     2   \n",
            "Support                    3           0         0      0        0     1   \n",
            "\n",
            "Predicted      Highlight  Irrelevant  Performance  Praise  Question  \\\n",
            "Actual                                                                \n",
            "Clarification          0          13            0      12         9   \n",
            "Correction             0           2            0       1         3   \n",
            "Disagree               0           3            0       2         1   \n",
            "Error                  0           4            1       1         1   \n",
            "Example                0           2            0       0         1   \n",
            "Extension              0           0            0       1         0   \n",
            "Flaw                   0           5            0       4         8   \n",
            "Highlight              0           2            0       0         0   \n",
            "Irrelevant             1          25            0      20        16   \n",
            "Obsolete               0           0            0       0         0   \n",
            "Performance            0           4            1       2         1   \n",
            "Praise                 0          11            1      98         1   \n",
            "Question               0           3            0       2        99   \n",
            "Reference              0           3            0       0         3   \n",
            "Request                0           3            0       4        13   \n",
            "Solution               0           6            1       5         3   \n",
            "Support                1           0            0       2         0   \n",
            "\n",
            "Predicted      Reference  Request  Solution  Support  \n",
            "Actual                                                \n",
            "Clarification          2        2        29        2  \n",
            "Correction             1        0         4        0  \n",
            "Disagree               2        0         6        0  \n",
            "Error                  1        0         4        0  \n",
            "Example                0        0         2        0  \n",
            "Extension              0        0         0        0  \n",
            "Flaw                   2        0         4        0  \n",
            "Highlight              1        1         0        0  \n",
            "Irrelevant             3        4        14        0  \n",
            "Obsolete               0        1         3        0  \n",
            "Performance            0        0         1        0  \n",
            "Praise                 0        0         9        0  \n",
            "Question               0        4         6        0  \n",
            "Reference              7        0         5        0  \n",
            "Request                0        2         3        0  \n",
            "Solution               0        2         8        0  \n",
            "Support                0        0         1        0  \n"
          ]
        }
      ]
    },
    {
      "cell_type": "markdown",
      "source": [
        "#### Print accuracy and f1 score"
      ],
      "metadata": {
        "id": "FCBq5aGJagB_"
      }
    },
    {
      "cell_type": "code",
      "source": [
        "accuracy_score(y_test, y_pred)"
      ],
      "metadata": {
        "colab": {
          "base_uri": "https://localhost:8080/"
        },
        "id": "AxivtlDyakTg",
        "outputId": "796857dc-af77-4eba-8bdc-6e9b66e577fc"
      },
      "execution_count": null,
      "outputs": [
        {
          "output_type": "execute_result",
          "data": {
            "text/plain": [
              "0.37089715536105033"
            ]
          },
          "metadata": {},
          "execution_count": 11
        }
      ]
    },
    {
      "cell_type": "code",
      "source": [
        "f1_score(y_test, y_pred, average=None)"
      ],
      "metadata": {
        "colab": {
          "base_uri": "https://localhost:8080/"
        },
        "id": "6JoarmzHbdMl",
        "outputId": "602eae50-4a54-4367-e6cb-c8eba73fd770"
      },
      "execution_count": null,
      "outputs": [
        {
          "output_type": "execute_result",
          "data": {
            "text/plain": [
              "array([0.36786469, 0.        , 0.25531915, 0.03846154, 0.        ,\n",
              "       0.        , 0.11494253, 0.        , 0.23584906, 0.        ,\n",
              "       0.11764706, 0.66440678, 0.69964664, 0.29166667, 0.08      ,\n",
              "       0.09937888, 0.        ])"
            ]
          },
          "metadata": {},
          "execution_count": 12
        }
      ]
    }
  ]
}
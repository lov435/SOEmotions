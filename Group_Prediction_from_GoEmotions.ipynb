{
  "nbformat": 4,
  "nbformat_minor": 0,
  "metadata": {
    "colab": {
      "provenance": [],
      "authorship_tag": "ABX9TyOtdQHk6fhMKfy2EVpY9hgn",
      "include_colab_link": true
    },
    "kernelspec": {
      "name": "python3",
      "display_name": "Python 3"
    },
    "language_info": {
      "name": "python"
    }
  },
  "cells": [
    {
      "cell_type": "markdown",
      "metadata": {
        "id": "view-in-github",
        "colab_type": "text"
      },
      "source": [
        "<a href=\"https://colab.research.google.com/github/lov435/SOEmotions/blob/main/Group_Prediction_from_GoEmotions.ipynb\" target=\"_parent\"><img src=\"https://colab.research.google.com/assets/colab-badge.svg\" alt=\"Open In Colab\"/></a>"
      ]
    },
    {
      "cell_type": "markdown",
      "source": [
        "#### Import the required libraries"
      ],
      "metadata": {
        "id": "7eA4goTaUFa6"
      }
    },
    {
      "cell_type": "code",
      "source": [
        "from sklearn.model_selection import train_test_split\n",
        "from sklearn.preprocessing import StandardScaler\n",
        "from sklearn.ensemble import RandomForestClassifier\n",
        "import pandas as pd\n",
        "import numpy as np\n",
        "from sklearn.metrics import accuracy_score\n",
        "from sklearn.metrics import f1_score"
      ],
      "metadata": {
        "id": "-y1_Om4kOFyn"
      },
      "execution_count": null,
      "outputs": []
    },
    {
      "cell_type": "markdown",
      "source": [
        "#### Get the dataset csv from google drive"
      ],
      "metadata": {
        "id": "UxEPdRR0ULZ9"
      }
    },
    {
      "cell_type": "code",
      "metadata": {
        "id": "eyyPr-XtkmZI"
      },
      "source": [
        "url='https://drive.google.com/file/d/1OW1PZ-MvXFGd4KbqE8zjSakPNVKXXVLy/view?usp=sharing'\n",
        "file_id=url.split('/')[-2]\n",
        "dwn_url='https://drive.google.com/uc?id=' + file_id\n",
        "df = pd.read_csv(dwn_url)"
      ],
      "execution_count": null,
      "outputs": []
    },
    {
      "cell_type": "markdown",
      "source": [
        "#### Extract the features and classes from the dataframe"
      ],
      "metadata": {
        "id": "3dnR2YAuUX1H"
      }
    },
    {
      "cell_type": "code",
      "source": [
        "X_cols = ['admiration', 'amusement', 'anger', 'annoyance', 'approval', 'caring', 'confusion', 'curiosity', 'desire', 'disappointment', 'disapproval', 'disgust', 'embarrassment', 'excitement', 'fear', 'gratitude', 'grief', 'joy', 'love', 'nervousness', 'optimism', 'pride', 'realization', 'relief', 'remorse', 'sadness', 'surprise', 'neutral'] \n",
        "X = df[X_cols]\n",
        "y = df['Group']"
      ],
      "metadata": {
        "id": "C4klEA23KezA"
      },
      "execution_count": null,
      "outputs": []
    },
    {
      "cell_type": "markdown",
      "source": [
        "#### Use pandas factorize function to factorize the Group column in the dataset. This will create both factors and the definitions for the factors."
      ],
      "metadata": {
        "id": "9Bj7t5m2SfwA"
      }
    },
    {
      "cell_type": "code",
      "source": [
        "factor = pd.factorize(y)\n",
        "y = factor[0]\n",
        "definitions = factor[1]\n",
        "print(y)\n",
        "print(definitions)"
      ],
      "metadata": {
        "colab": {
          "base_uri": "https://localhost:8080/"
        },
        "id": "NbOa_1wsRfg8",
        "outputId": "e9b6abde-02b6-4e4b-8c25-f0d56aa9dec2"
      },
      "execution_count": null,
      "outputs": [
        {
          "output_type": "stream",
          "name": "stdout",
          "text": [
            "[0 0 1 ... 2 0 4]\n",
            "Index(['Addition', 'Improvement', 'Inquiry', 'Advantage', 'Irrelevant',\n",
            "       'Praise', 'Weakness'],\n",
            "      dtype='object')\n"
          ]
        }
      ]
    },
    {
      "cell_type": "markdown",
      "source": [
        "#### Creating the Training and Test set from data"
      ],
      "metadata": {
        "id": "yJrUWA6dSUpQ"
      }
    },
    {
      "cell_type": "code",
      "source": [
        "X_train, X_test, y_train, y_test = train_test_split(X, y, test_size = 0.25, random_state = 21)"
      ],
      "metadata": {
        "id": "rsF8JXQFSZNy"
      },
      "execution_count": null,
      "outputs": []
    },
    {
      "cell_type": "markdown",
      "source": [
        "#### Feature Scaling. We will use a standard scaler provided in the sklearn library. It subtracts the mean value of the observation and then divides it by the unit variance of the observation."
      ],
      "metadata": {
        "id": "E9yX2Rc-S4Gd"
      }
    },
    {
      "cell_type": "code",
      "source": [
        "scaler = StandardScaler()\n",
        "X_train = scaler.fit_transform(X_train)\n",
        "X_test = scaler.transform(X_test)"
      ],
      "metadata": {
        "id": "Ya6y9fGrODzP"
      },
      "execution_count": null,
      "outputs": []
    },
    {
      "cell_type": "markdown",
      "source": [
        "#### Fitting Random Forest Classification to the Training set\n"
      ],
      "metadata": {
        "id": "amqD0H7yTHFj"
      }
    },
    {
      "cell_type": "code",
      "source": [
        "classifier = RandomForestClassifier(n_estimators = 10, criterion = 'entropy', random_state = 42)\n",
        "classifier.fit(X_train, y_train)"
      ],
      "metadata": {
        "colab": {
          "base_uri": "https://localhost:8080/"
        },
        "id": "gntekXixPrj6",
        "outputId": "ae4a91f4-0270-4bbc-fe36-4e5824d8d0cc"
      },
      "execution_count": null,
      "outputs": [
        {
          "output_type": "execute_result",
          "data": {
            "text/plain": [
              "RandomForestClassifier(criterion='entropy', n_estimators=10, random_state=42)"
            ]
          },
          "metadata": {},
          "execution_count": 7
        }
      ]
    },
    {
      "cell_type": "markdown",
      "source": [
        "#### Predicting the Test set results"
      ],
      "metadata": {
        "id": "qOz86EORTZm9"
      }
    },
    {
      "cell_type": "code",
      "source": [
        "y_pred = classifier.predict(X_test)"
      ],
      "metadata": {
        "id": "fPP55ljJPtzG"
      },
      "execution_count": null,
      "outputs": []
    },
    {
      "cell_type": "markdown",
      "source": [
        "#### Reverse factorize the 'Group' column from numbers to text."
      ],
      "metadata": {
        "id": "10y37BvkTgDy"
      }
    },
    {
      "cell_type": "code",
      "source": [
        "reversefactor = dict(zip(range(definitions.size),definitions))\n",
        "y_test = np.vectorize(reversefactor.get)(y_test)\n",
        "y_pred = np.vectorize(reversefactor.get)(y_pred)"
      ],
      "metadata": {
        "id": "XtPSjoiXTmG6"
      },
      "execution_count": null,
      "outputs": []
    },
    {
      "cell_type": "markdown",
      "source": [
        "#### Create a confusion matrix"
      ],
      "metadata": {
        "id": "7fK0hIgeTrZQ"
      }
    },
    {
      "cell_type": "code",
      "source": [
        "print(pd.crosstab(y_test, y_pred, rownames=['Actual'], colnames=['Predicted']))\n"
      ],
      "metadata": {
        "colab": {
          "base_uri": "https://localhost:8080/"
        },
        "id": "Z4a4y8kzT0vg",
        "outputId": "3cd91bd8-57e3-47d3-e5cd-f03c6a827d57"
      },
      "execution_count": null,
      "outputs": [
        {
          "output_type": "stream",
          "name": "stdout",
          "text": [
            "Predicted    Addition  Advantage  Improvement  Inquiry  Irrelevant  Praise  \\\n",
            "Actual                                                                       \n",
            "Addition          214          1            2       21          10      15   \n",
            "Advantage          13          1            0        1           4       4   \n",
            "Improvement        34          2            0        5           0       0   \n",
            "Inquiry            25          1            0      118           7       2   \n",
            "Irrelevant         55          0            0       17          25      23   \n",
            "Praise             37          1            0        3           9      87   \n",
            "Weakness           89          0            2       10           4       3   \n",
            "\n",
            "Predicted    Weakness  \n",
            "Actual                 \n",
            "Addition           19  \n",
            "Advantage           5  \n",
            "Improvement         1  \n",
            "Inquiry             5  \n",
            "Irrelevant          6  \n",
            "Praise              4  \n",
            "Weakness           29  \n"
          ]
        }
      ]
    },
    {
      "cell_type": "markdown",
      "source": [
        "#### Print accuracy and f1 score"
      ],
      "metadata": {
        "id": "FCBq5aGJagB_"
      }
    },
    {
      "cell_type": "code",
      "source": [
        "accuracy_score(y_test, y_pred)"
      ],
      "metadata": {
        "colab": {
          "base_uri": "https://localhost:8080/"
        },
        "id": "AxivtlDyakTg",
        "outputId": "d4099664-77ad-4d4c-a911-93fcecc19d9c"
      },
      "execution_count": null,
      "outputs": [
        {
          "output_type": "execute_result",
          "data": {
            "text/plain": [
              "0.5185995623632386"
            ]
          },
          "metadata": {},
          "execution_count": 11
        }
      ]
    },
    {
      "cell_type": "code",
      "source": [
        "f1_score(y_test, y_pred, average=None)"
      ],
      "metadata": {
        "colab": {
          "base_uri": "https://localhost:8080/"
        },
        "id": "6JoarmzHbdMl",
        "outputId": "af580556-109c-4b13-94a4-e848a9b3a966"
      },
      "execution_count": null,
      "outputs": [
        {
          "output_type": "execute_result",
          "data": {
            "text/plain": [
              "array([0.57142857, 0.05882353, 0.        , 0.70870871, 0.27027027,\n",
              "       0.63272727, 0.2815534 ])"
            ]
          },
          "metadata": {},
          "execution_count": 12
        }
      ]
    }
  ]
}